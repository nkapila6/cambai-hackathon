{
 "cells": [
  {
   "cell_type": "code",
   "execution_count": 5,
   "id": "initial_id",
   "metadata": {
    "ExecuteTime": {
     "end_time": "2024-05-11T07:49:48.320680Z",
     "start_time": "2024-05-11T07:49:47.034758Z"
    },
    "collapsed": true
   },
   "outputs": [],
   "source": [
    "import gradio as gr\n",
    "import requests\n",
    "import json\n",
    "\n",
    "url = \"https://client.camb.ai/apis/tts\"\n",
    "\n",
    "\n",
    "\n",
    "# print(response.text)"
   ]
  },
  {
   "cell_type": "code",
   "execution_count": 7,
   "id": "fb6c3cbc",
   "metadata": {},
   "outputs": [],
   "source": [
    "from langchain_groq import ChatGroq\n",
    "from langchain_openai import ChatOpenAI\n",
    "from langchain_core.prompts import PromptTemplate, ChatPromptTemplate, HumanMessagePromptTemplate, StringPromptTemplate, FewShotPromptTemplate, FewShotChatMessagePromptTemplate\n",
    "from langchain_core.output_parsers import StrOutputParser\n",
    "import os\n",
    "from dotenv import load_dotenv\n",
    "\n",
    "_ = load_dotenv()"
   ]
  },
  {
   "cell_type": "code",
   "execution_count": 8,
   "id": "37fd7c99",
   "metadata": {},
   "outputs": [],
   "source": [
    "groq_api_key = os.getenv(\"GROQ_API_KEY\")\n",
    "openai_api_key = os.getenv(\"OPENAI_API_KEY\")\n",
    "camb_ai_key = os.getenv(\"CAMB_AI_KEY\")"
   ]
  },
  {
   "cell_type": "code",
   "execution_count": 4,
   "id": "db674fa5b4b364ed",
   "metadata": {
    "collapsed": false
   },
   "outputs": [],
   "source": [
    "def cambai_getvoices():\n",
    "    API_KEY = camb_ai_key\n",
    "    url = \"https://client.camb.ai/apis/list_voices\"\n",
    "    headers = {\"x-api-key\": API_KEY}\n",
    "    response = requests.get(url, headers=headers)\n",
    "    data = response.json()\n",
    "    \n",
    "    for voice in data[\"payload\"]:\n",
    "        print(f\"{voice['voice_name']}; {voice['id']}\")"
   ]
  },
  {
   "cell_type": "code",
   "execution_count": 18,
   "id": "4d1fdd0b",
   "metadata": {},
   "outputs": [],
   "source": [
    "def get_task_id(input_str: str): \n",
    "    url = \"https://client.camb.ai/apis/tts\"\n",
    "    payload = {\n",
    "        \"text\": input_str,\n",
    "        \"voice_id\": 8745,\n",
    "        \"language\": 4,\n",
    "        \"gender\": 0,\n",
    "        \"age\": 123\n",
    "    }\n",
    "    headers = {\n",
    "        \"x-api-key\": camb_ai_key,\n",
    "        \"Content-Type\": \"application/json\"\n",
    "    }\n",
    "    \n",
    "    response = requests.request(\"POST\", url, json=payload, headers=headers)\n",
    "    \n",
    "    return eval(response.text)\n",
    "\n",
    " # Get poll status\n",
    "def get_poll_status(task_id: str):\n",
    "    # Job Status\n",
    "    url = f\"https://client.camb.ai/apis/tts/{task_id}\"\n",
    "\n",
    "    headers = {\"x-api-key\": camb_ai_key}\n",
    "\n",
    "    response = requests.request(\"GET\", url, headers=headers)\n",
    "    \n",
    "    return response.text"
   ]
  },
  {
   "cell_type": "code",
   "execution_count": 19,
   "id": "ef1b87bc",
   "metadata": {},
   "outputs": [],
   "source": [
    "task_id = get_task_id(\"أنا أتعلم اللغة العربية بشكل جيد\")['task_id']"
   ]
  },
  {
   "cell_type": "code",
   "execution_count": 22,
   "id": "a96eda2d",
   "metadata": {},
   "outputs": [],
   "source": [
    "poll_status = get_poll_status(task_id)"
   ]
  },
  {
   "cell_type": "code",
   "execution_count": 25,
   "id": "79d5c629",
   "metadata": {},
   "outputs": [],
   "source": [
    "poll_status = eval(poll_status)"
   ]
  },
  {
   "cell_type": "code",
   "execution_count": 26,
   "id": "80e34a03",
   "metadata": {},
   "outputs": [],
   "source": [
    "tts_result = requests.get(\n",
    "    f\"https://client.camb.ai/apis/tts_result/{poll_status['run_id']}\",\n",
    "    headers={\"x-api-key\": camb_ai_key}, stream=True\n",
    ")\n",
    "with open(\"saved_stream_arabic.wav\", \"wb\") as f:\n",
    "    for chunk in tts_result.iter_content(chunk_size=1024):\n",
    "        f.write(chunk)"
   ]
  },
  {
   "cell_type": "code",
   "execution_count": 42,
   "id": "2470fd7e",
   "metadata": {},
   "outputs": [],
   "source": [
    "import time"
   ]
  },
  {
   "cell_type": "code",
   "execution_count": 10,
   "id": "d5f51940",
   "metadata": {},
   "outputs": [],
   "source": [
    "def clean_input(raw_input: str):\n",
    "    openai_model = ChatOpenAI(temperature=0, api_key=openai_api_key, model='gpt-3.5-turbo')\n",
    "    SYSTEM_PROMPT = \"\"\"You are an advanced language model trained to rephrase sentences while removing inappropriate, offensive, or explicit content. Your task is to take any input sentence, no matter how vulgar or offensive, and rewrite it in a polite, family-friendly manner without losing the core meaning.\"\"\"\n",
    "    human = \"{text}\"\n",
    "    prompt = ChatPromptTemplate.from_messages([(\"system\", SYSTEM_PROMPT), (\"human\", human)])\n",
    "\n",
    "    chain = prompt | openai_model | StrOutputParser()\n",
    "    paraphrased_sentence = chain.invoke({\"text\": raw_input})\n",
    "    return paraphrased_sentence"
   ]
  },
  {
   "cell_type": "code",
   "execution_count": 13,
   "id": "86e99d76c56abc00",
   "metadata": {
    "collapsed": false
   },
   "outputs": [],
   "source": [
    "def cambAI_TTS(input_str: str):\n",
    "    print(f\"Input text: {input_str}\")\n",
    "    paraphrased_sentence = clean_input(input_str)\n",
    "    print(f\"Paraphrased text: {paraphrased_sentence}\")\n",
    "    task_id = get_task_id(paraphrased_sentence)['task_id']\n",
    "    time.sleep(10)\n",
    "    poll_status = get_poll_status(task_id) \n",
    "    poll_status = eval(poll_status)\n",
    "    if poll_status['status'] == 'SUCCESS':\n",
    "        tts_result = requests.get(\n",
    "            f\"https://client.camb.ai/apis/tts_result/{poll_status['run_id']}\",\n",
    "            headers={\"x-api-key\": camb_ai_key}, stream=True\n",
    "        )\n",
    "        with open(\"saved_stream.wav\", \"wb\") as f:\n",
    "            for chunk in tts_result.iter_content(chunk_size=1024):\n",
    "                f.write(chunk)\n",
    "\n",
    "    if poll_status['status'] == \"FAILED\":\n",
    "        print('Job failed!')\n",
    "        return None\n",
    "    \n",
    "    return \"saved_stream.wav\""
   ]
  },
  {
   "cell_type": "code",
   "execution_count": 16,
   "id": "4e854e32388552b3",
   "metadata": {
    "ExecuteTime": {
     "end_time": "2024-05-11T08:26:24.865382Z",
     "start_time": "2024-05-11T08:26:24.707519Z"
    },
    "collapsed": false
   },
   "outputs": [
    {
     "name": "stdout",
     "output_type": "stream",
     "text": [
      "Running on local URL:  http://127.0.0.1:7861\n",
      "\n",
      "To create a public link, set `share=True` in `launch()`.\n"
     ]
    },
    {
     "data": {
      "text/html": [
       "<div><iframe src=\"http://127.0.0.1:7861/\" width=\"100%\" height=\"500\" allow=\"autoplay; camera; microphone; clipboard-read; clipboard-write;\" frameborder=\"0\" allowfullscreen></iframe></div>"
      ],
      "text/plain": [
       "<IPython.core.display.HTML object>"
      ]
     },
     "metadata": {},
     "output_type": "display_data"
    },
    {
     "data": {
      "text/plain": []
     },
     "execution_count": 16,
     "metadata": {},
     "output_type": "execute_result"
    }
   ],
   "source": [
    "app = gr.Interface(fn=cambAI_TTS,\n",
    "                    inputs='textbox',\n",
    "                    outputs='audio')\n",
    "\n",
    "app.launch()"
   ]
  },
  {
   "cell_type": "code",
   "execution_count": 98,
   "id": "5e04fe97",
   "metadata": {},
   "outputs": [],
   "source": [
    "# Araclip demo \n",
    "with gr.Blocks() as demo_araclip:\n",
    "\n",
    "    gr.Markdown(\"## Input parameters\")\n",
    "    \n",
    "    txt = gr.Textbox(label=\"Text Query (Caption)\")\n",
    "    \n",
    "    out_voice = gr.Audio(label=\"Audio Output\")\n",
    "\n",
    "    with gr.Row():\n",
    "        btn = gr.Button(\"Start\", scale=1)\n",
    "    \n",
    "\n",
    "    btn.click(cambAI_TTS, inputs=[txt], outputs=[out_voice])\n",
    "\n",
    "# Group the demos in a TabbedInterface \n",
    "with gr.Blocks() as demo:\n",
    "\n",
    "    gr.TabbedInterface([demo_araclip], [\"Our Model\"])\n",
    "\n",
    "if __name__ == \"__main__\":\n",
    "    \n",
    "    demo.launch()"
   ]
  },
  {
   "cell_type": "markdown",
   "id": "8010366d",
   "metadata": {},
   "source": [
    "## Case 2"
   ]
  },
  {
   "cell_type": "code",
   "execution_count": 1,
   "id": "fcc3ac5c",
   "metadata": {},
   "outputs": [
    {
     "name": "stdout",
     "output_type": "stream",
     "text": [
      " بِسْمِ اللهِ الرَّحْمَنِ الرَّحِيمِ\n",
      " بِسْمِ اللهِ الرَّحْمَنِ الرَّحِيمِ\n",
      " بِسْمِ اللهِ الرَّحْمَنِ الرَّحِيمِ\n",
      " بِسْمِ اللهِ الرَّحْمَنِ الرَّحِيمِ\n",
      " بِسْمِ اللهِ الرَّحْمَنِ الرَّحِيمِ\n"
     ]
    }
   ],
   "source": [
    "import mishkal.tashkeel\n",
    "\n",
    "vocalizer = mishkal.tashkeel.TashkeelClass()\n",
    "\n",
    "for i in range(5):\n",
    "    text = u\"بسم الله الرحمن الرحيم\"\n",
    "    print(vocalizer.tashkeel(text))"
   ]
  },
  {
   "cell_type": "code",
   "execution_count": 14,
   "id": "4fe91584",
   "metadata": {},
   "outputs": [],
   "source": [
    "def cambAI_TTS(input_str: str):\n",
    "    print(f\"Input text: {input_str}\")\n",
    "    paraphrased_sentence = vocalizer.tashkeel(input_str)\n",
    "    print(f\"Paraphrased text: {paraphrased_sentence}\")\n",
    "    task_id = get_task_id(paraphrased_sentence)['task_id']\n",
    "    time.sleep(10)\n",
    "    poll_status = get_poll_status(task_id) \n",
    "    poll_status = eval(poll_status)\n",
    "    if poll_status['status'] == 'SUCCESS':\n",
    "        tts_result = requests.get(\n",
    "            f\"https://client.camb.ai/apis/tts_result/{poll_status['run_id']}\",\n",
    "            headers={\"x-api-key\": camb_ai_key}, stream=True\n",
    "        )\n",
    "        with open(\"saved_stream.wav\", \"wb\") as f:\n",
    "            for chunk in tts_result.iter_content(chunk_size=1024):\n",
    "                f.write(chunk)\n",
    "\n",
    "    if poll_status['status'] == \"FAILED\":\n",
    "        print('Job failed!')\n",
    "        return None\n",
    "    \n",
    "    return \"saved_stream.wav\""
   ]
  },
  {
   "cell_type": "code",
   "execution_count": 15,
   "id": "cc124295",
   "metadata": {},
   "outputs": [
    {
     "name": "stdout",
     "output_type": "stream",
     "text": [
      "Running on local URL:  http://127.0.0.1:7860\n",
      "\n",
      "To create a public link, set `share=True` in `launch()`.\n"
     ]
    },
    {
     "data": {
      "text/html": [
       "<div><iframe src=\"http://127.0.0.1:7860/\" width=\"100%\" height=\"500\" allow=\"autoplay; camera; microphone; clipboard-read; clipboard-write;\" frameborder=\"0\" allowfullscreen></iframe></div>"
      ],
      "text/plain": [
       "<IPython.core.display.HTML object>"
      ]
     },
     "metadata": {},
     "output_type": "display_data"
    }
   ],
   "source": [
    "# Araclip demo \n",
    "with gr.Blocks() as demo_araclip:\n",
    "\n",
    "    gr.Markdown(\"## Input parameters\")\n",
    "    \n",
    "    txt = gr.Textbox(label=\"Text Query (Caption)\")\n",
    "    \n",
    "    out_voice = gr.Audio(label=\"Audio Output\")\n",
    "\n",
    "    with gr.Row():\n",
    "        btn = gr.Button(\"Start\", scale=1)\n",
    "    \n",
    "\n",
    "    btn.click(cambAI_TTS, inputs=[txt], outputs=[out_voice])\n",
    "\n",
    "# Group the demos in a TabbedInterface \n",
    "with gr.Blocks() as demo:\n",
    "\n",
    "    gr.TabbedInterface([demo_araclip], [\"Our Model\"])\n",
    "\n",
    "if __name__ == \"__main__\":\n",
    "    \n",
    "    demo.launch()"
   ]
  },
  {
   "cell_type": "code",
   "execution_count": 27,
   "id": "3b542088",
   "metadata": {},
   "outputs": [
    {
     "name": "stderr",
     "output_type": "stream",
     "text": [
      "/Users/isham993/mambaforge/envs/gpu_torch/lib/python3.11/site-packages/gradio/utils.py:977: UserWarning: Expected 1 arguments for function <function cambAI_TTS at 0x1765d8f40>, received 2.\n",
      "  warnings.warn(\n",
      "/Users/isham993/mambaforge/envs/gpu_torch/lib/python3.11/site-packages/gradio/utils.py:985: UserWarning: Expected maximum 1 arguments for function <function cambAI_TTS at 0x1765d8f40>, received 2.\n",
      "  warnings.warn(\n"
     ]
    },
    {
     "name": "stdout",
     "output_type": "stream",
     "text": [
      "Running on local URL:  http://127.0.0.1:7863\n",
      "\n",
      "To create a public link, set `share=True` in `launch()`.\n"
     ]
    },
    {
     "data": {
      "text/html": [
       "<div><iframe src=\"http://127.0.0.1:7863/\" width=\"100%\" height=\"500\" allow=\"autoplay; camera; microphone; clipboard-read; clipboard-write;\" frameborder=\"0\" allowfullscreen></iframe></div>"
      ],
      "text/plain": [
       "<IPython.core.display.HTML object>"
      ]
     },
     "metadata": {},
     "output_type": "display_data"
    },
    {
     "data": {
      "text/plain": []
     },
     "execution_count": 27,
     "metadata": {},
     "output_type": "execute_result"
    }
   ],
   "source": [
    "app = gr.Interface(\n",
    "    fn=cambAI_TTS,\n",
    "    inputs=[\n",
    "        gr.Textbox(label='Enter your offensive sentence'),\n",
    "        gr.Dropdown(\n",
    "           choices=[\"en\", \"ar\"], label='Language'\n",
    "        )\n",
    "    ],\n",
    "  outputs=[\n",
    "      gr.Audio(label='TTS output from CAMB.AI'),\n",
    "      gr.Textbox(label='Cleaned output from LLM')\n",
    "  ]\n",
    ")\n",
    "\n",
    "app.launch()"
   ]
  }
 ],
 "metadata": {
  "kernelspec": {
   "display_name": "Python 3",
   "language": "python",
   "name": "python3"
  },
  "language_info": {
   "codemirror_mode": {
    "name": "ipython",
    "version": 3
   },
   "file_extension": ".py",
   "mimetype": "text/x-python",
   "name": "python",
   "nbconvert_exporter": "python",
   "pygments_lexer": "ipython3",
   "version": "3.11.3"
  }
 },
 "nbformat": 4,
 "nbformat_minor": 5
}
