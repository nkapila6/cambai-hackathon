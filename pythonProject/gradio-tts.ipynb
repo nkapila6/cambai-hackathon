{
 "cells": [
  {
   "cell_type": "code",
   "execution_count": 1,
   "id": "initial_id",
   "metadata": {
    "collapsed": true,
    "ExecuteTime": {
     "end_time": "2024-05-11T07:49:48.320680Z",
     "start_time": "2024-05-11T07:49:47.034758Z"
    }
   },
   "outputs": [],
   "source": [
    "import gradio as gr\n",
    "import requests\n",
    "import json\n",
    "\n",
    "url = \"https://client.camb.ai/apis/tts\"\n",
    "\n",
    "\n",
    "\n",
    "print(response.text)"
   ]
  },
  {
   "cell_type": "code",
   "execution_count": null,
   "outputs": [],
   "source": [
    "def cambai_getvoices():\n",
    "    API_KEY = \"your_api_key_here\"\n",
    "    url = \"https://client.camb.ai/apis/list_voices\"\n",
    "    headers = {\"x-api-key\": API_KEY}\n",
    "    response = requests.get(url, headers=headers)\n",
    "    data = response.json()\n",
    "    \n",
    "    for voice in data[\"payload\"]:\n",
    "    print(f\"{voice['voice_name']}; {voice['id']}\")"
   ],
   "metadata": {
    "collapsed": false
   },
   "id": "db674fa5b4b364ed"
  },
  {
   "cell_type": "code",
   "execution_count": null,
   "outputs": [],
   "source": [
    "def cambAI_TTS(input):\n",
    "    \n",
    "    \n",
    "    payload = {\n",
    "        \"text\": f\"input\",\n",
    "        \"voice_id\": 123,\n",
    "        \"language\": 1,\n",
    "        \"gender\": 0,\n",
    "        \"age\": 123\n",
    "    }\n",
    "    headers = {\n",
    "        \"x-api-key\": \"<api-key>\",\n",
    "        \"Content-Type\": \"application/json\"\n",
    "    }\n",
    "    \n",
    "    response = requests.request(\"POST\", url, json=payload, headers=headers)\n",
    "    return response"
   ],
   "metadata": {
    "collapsed": false
   },
   "id": "86e99d76c56abc00"
  },
  {
   "cell_type": "code",
   "execution_count": 4,
   "outputs": [],
   "source": [
    "def clean_input(input):\n",
    "    cleaned_input = input\n",
    "    # LLM cleaning here\n",
    "    \n",
    "    # call camb.AI API\n",
    "    return cleaned_input"
   ],
   "metadata": {
    "collapsed": false,
    "ExecuteTime": {
     "end_time": "2024-05-11T08:25:16.935660Z",
     "start_time": "2024-05-11T08:25:16.929761Z"
    }
   },
   "id": "e5108823d339c92"
  },
  {
   "cell_type": "code",
   "execution_count": 8,
   "outputs": [
    {
     "name": "stdout",
     "output_type": "stream",
     "text": [
      "Running on local URL:  http://127.0.0.1:7861\n",
      "\n",
      "To create a public link, set `share=True` in `launch()`.\n"
     ]
    },
    {
     "data": {
      "text/plain": "<IPython.core.display.HTML object>",
      "text/html": "<div><iframe src=\"http://127.0.0.1:7861/\" width=\"100%\" height=\"500\" allow=\"autoplay; camera; microphone; clipboard-read; clipboard-write;\" frameborder=\"0\" allowfullscreen></iframe></div>"
     },
     "metadata": {},
     "output_type": "display_data"
    },
    {
     "data": {
      "text/plain": ""
     },
     "execution_count": 8,
     "metadata": {},
     "output_type": "execute_result"
    }
   ],
   "source": [
    "app = gr.Interface(fn=clean_input,\n",
    "                    inputs='textbox',\n",
    "                    outputs='audio')\n",
    "\n",
    "app.launch()"
   ],
   "metadata": {
    "collapsed": false,
    "ExecuteTime": {
     "end_time": "2024-05-11T08:26:24.865382Z",
     "start_time": "2024-05-11T08:26:24.707519Z"
    }
   },
   "id": "4e854e32388552b3"
  },
  {
   "cell_type": "code",
   "execution_count": null,
   "outputs": [],
   "source": [],
   "metadata": {
    "collapsed": false
   },
   "id": "7c722144aa2aa6de"
  }
 ],
 "metadata": {
  "kernelspec": {
   "display_name": "Python 3",
   "language": "python",
   "name": "python3"
  },
  "language_info": {
   "codemirror_mode": {
    "name": "ipython",
    "version": 2
   },
   "file_extension": ".py",
   "mimetype": "text/x-python",
   "name": "python",
   "nbconvert_exporter": "python",
   "pygments_lexer": "ipython2",
   "version": "2.7.6"
  }
 },
 "nbformat": 4,
 "nbformat_minor": 5
}
