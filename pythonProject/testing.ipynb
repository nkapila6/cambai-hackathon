{
 "cells": [
  {
   "cell_type": "code",
   "execution_count": 1,
   "metadata": {},
   "outputs": [],
   "source": [
    "from helper import cambAI_TTS\n",
    "import gradio as gr "
   ]
  },
  {
   "cell_type": "code",
   "execution_count": 2,
   "metadata": {},
   "outputs": [
    {
     "name": "stdout",
     "output_type": "stream",
     "text": [
      "Input text: أنا أتعلم اللغة العربية بشكل جيد.\n",
      "Paraphrased text:  أَنَا أَتَعَلَّمَ اللُّغَةَ الْعَرَبِيَّةَ بِشَكْلِ جِيدٍ\u0001\n",
      "Language selected: 4\n",
      "{'status': 'SUCCESS', 'run_id': 10379}\n",
      "Audio saved as saved_stream_ar.wav\n"
     ]
    },
    {
     "data": {
      "text/plain": [
       "'saved_stream_ar.wav'"
      ]
     },
     "execution_count": 2,
     "metadata": {},
     "output_type": "execute_result"
    }
   ],
   "source": [
    "# cambAI_TTS(\"أنا أتعلم اللغة العربية بشكل جيد.\", \"ar\")"
   ]
  },
  {
   "cell_type": "code",
   "execution_count": 3,
   "metadata": {},
   "outputs": [
    {
     "name": "stdout",
     "output_type": "stream",
     "text": [
      "Input text: You are a horrible and nasty person!\n",
      "Paraphrased text: You are not being very kind or pleasant.\n",
      "Language selected: 1\n",
      "{'status': 'SUCCESS', 'run_id': 10380}\n",
      "Audio saved as saved_stream_en.wav\n"
     ]
    },
    {
     "data": {
      "text/plain": [
       "'saved_stream_en.wav'"
      ]
     },
     "execution_count": 3,
     "metadata": {},
     "output_type": "execute_result"
    }
   ],
   "source": [
    "# cambAI_TTS(\"You are a horrible and nasty person!\", \"en\")"
   ]
  },
  {
   "cell_type": "code",
   "execution_count": 2,
   "metadata": {},
   "outputs": [
    {
     "name": "stdout",
     "output_type": "stream",
     "text": [
      "Running on local URL:  http://127.0.0.1:7862\n",
      "\n",
      "To create a public link, set `share=True` in `launch()`.\n"
     ]
    },
    {
     "data": {
      "text/html": [
       "<div><iframe src=\"http://127.0.0.1:7862/\" width=\"100%\" height=\"500\" allow=\"autoplay; camera; microphone; clipboard-read; clipboard-write;\" frameborder=\"0\" allowfullscreen></iframe></div>"
      ],
      "text/plain": [
       "<IPython.core.display.HTML object>"
      ]
     },
     "metadata": {},
     "output_type": "display_data"
    },
    {
     "data": {
      "text/plain": []
     },
     "execution_count": 2,
     "metadata": {},
     "output_type": "execute_result"
    },
    {
     "name": "stdout",
     "output_type": "stream",
     "text": [
      "Input text: أنا أتعلم اللغة العربية بشكل جيد.\n",
      "Paraphrased text:  أَنَا أَتَعَلَّمَ اللُّغَةَ الْعَرَبِيَّةَ بِشَكْلِ جِيدٍ\u0001\n",
      "Language selected: 4\n",
      "{'status': 'SUCCESS', 'run_id': 10398}\n",
      "Audio saved as saved_stream_ar.wav\n"
     ]
    }
   ],
   "source": [
    "app = gr.Interface(\n",
    "    fn=cambAI_TTS,\n",
    "    inputs=[\n",
    "        gr.Textbox(label='Enter your offensive sentence'),\n",
    "        gr.Dropdown(\n",
    "           choices=[\"en\", \"ar\"], label='Language'\n",
    "        )\n",
    "    ],\n",
    "  outputs=\"audio\"\n",
    ")\n",
    "\n",
    "app.launch()"
   ]
  },
  {
   "cell_type": "code",
   "execution_count": 3,
   "metadata": {},
   "outputs": [
    {
     "name": "stdout",
     "output_type": "stream",
     "text": [
      "Running on local URL:  http://127.0.0.1:7864\n",
      "\n",
      "To create a public link, set `share=True` in `launch()`.\n"
     ]
    },
    {
     "data": {
      "text/html": [
       "<div><iframe src=\"http://127.0.0.1:7864/\" width=\"100%\" height=\"500\" allow=\"autoplay; camera; microphone; clipboard-read; clipboard-write;\" frameborder=\"0\" allowfullscreen></iframe></div>"
      ],
      "text/plain": [
       "<IPython.core.display.HTML object>"
      ]
     },
     "metadata": {},
     "output_type": "display_data"
    },
    {
     "data": {
      "text/plain": []
     },
     "execution_count": 3,
     "metadata": {},
     "output_type": "execute_result"
    },
    {
     "name": "stdout",
     "output_type": "stream",
     "text": [
      "Input text: أنا أتعلم اللغة العربية بشكل جيد.\n",
      "Paraphrased text:  أَنَا أَتَعَلَّمَ اللُّغَةَ الْعَرَبِيَّةَ بِشَكْلِ جِيدٍ\u0001\n",
      "Language selected: 4\n",
      "{'status': 'SUCCESS', 'run_id': 10437}\n",
      "Audio saved as saved_stream_ar.wav\n"
     ]
    }
   ],
   "source": [
    "app = gr.Interface(\n",
    "    fn=cambAI_TTS,\n",
    "    inputs=[\n",
    "        gr.Textbox(label='Enter your sentence'),\n",
    "        gr.Dropdown(\n",
    "           choices=[\"en\", \"ar\"], label='Language'\n",
    "        )\n",
    "    ],\n",
    "  outputs=[\n",
    "      gr.Audio(label='TTS Output from CAMB.AI'),\n",
    "      gr.Textbox(label='Cleaned Output')\n",
    "  ]\n",
    ")\n",
    "\n",
    "app.launch()"
   ]
  }
 ],
 "metadata": {
  "kernelspec": {
   "display_name": "gpu_torch",
   "language": "python",
   "name": "python3"
  },
  "language_info": {
   "codemirror_mode": {
    "name": "ipython",
    "version": 3
   },
   "file_extension": ".py",
   "mimetype": "text/x-python",
   "name": "python",
   "nbconvert_exporter": "python",
   "pygments_lexer": "ipython3",
   "version": "3.11.3"
  }
 },
 "nbformat": 4,
 "nbformat_minor": 2
}
